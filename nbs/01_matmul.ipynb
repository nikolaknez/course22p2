{
  "cells": [
    {
      "cell_type": "markdown",
      "metadata": {
        "id": "f2fj8qGFLAvv"
      },
      "source": [
        "## Matrix multiplication from foundations"
      ]
    },
    {
      "cell_type": "markdown",
      "metadata": {
        "id": "9Wfg4608LAvw"
      },
      "source": [
        "The *foundations* we'll assume throughout this course are:\n",
        "\n",
        "- Python\n",
        "- matplotlib\n",
        "- The Python standard library\n",
        "- Jupyter notebooks and nbdev"
      ]
    },
    {
      "cell_type": "code",
      "execution_count": 3,
      "metadata": {
        "id": "OGPaKkTELAvw"
      },
      "outputs": [],
      "source": [
        "from pathlib import Path\n",
        "import pickle, gzip, math, os, time, shutil, matplotlib as mpl, matplotlib.pyplot as plt"
      ]
    },
    {
      "cell_type": "markdown",
      "metadata": {
        "id": "bKyvAqUXLAvw"
      },
      "source": [
        "## Get data"
      ]
    },
    {
      "cell_type": "code",
      "execution_count": 4,
      "metadata": {
        "id": "YHH6ePckLAvx"
      },
      "outputs": [],
      "source": [
        "MNIST_URL='https://github.com/mnielsen/neural-networks-and-deep-learning/blob/master/data/mnist.pkl.gz?raw=true'\n",
        "path_data = Path('data')\n",
        "path_data.mkdir(exist_ok=True)\n",
        "path_gz = path_data/'mnist.pkl.gz'"
      ]
    },
    {
      "cell_type": "markdown",
      "metadata": {
        "id": "z18GKNxrLAvx"
      },
      "source": [
        "[urlretrieve](https://docs.python.org/3/library/urllib.request.html#urllib.request.urlretrieve) - (read the docs!)"
      ]
    },
    {
      "cell_type": "code",
      "execution_count": 5,
      "metadata": {
        "id": "Tnhn-xaGLAvx"
      },
      "outputs": [],
      "source": [
        "from urllib.request import urlretrieve\n",
        "if not path_gz.exists(): urlretrieve(MNIST_URL, path_gz)"
      ]
    },
    {
      "cell_type": "code",
      "execution_count": 6,
      "metadata": {
        "id": "33Gp7QRwLAvx",
        "outputId": "b5425468-3098-46c8-97a6-8789f881e2f9",
        "colab": {
          "base_uri": "https://localhost:8080/"
        }
      },
      "outputs": [
        {
          "output_type": "stream",
          "name": "stdout",
          "text": [
            "total 16656\n",
            "-rw-r--r-- 1 root root 17051982 Dec 23 11:23 mnist.pkl.gz\n"
          ]
        }
      ],
      "source": [
        "!ls -l data"
      ]
    },
    {
      "cell_type": "code",
      "execution_count": 8,
      "metadata": {
        "id": "Hf96sa0jLAvy"
      },
      "outputs": [],
      "source": [
        "  with gzip.open(path_gz, 'rb') as f: ((x_train, y_train), (x_valid, y_valid), _) = pickle.load(f, encoding='latin-1')"
      ]
    },
    {
      "cell_type": "code",
      "execution_count": 10,
      "metadata": {
        "id": "QFedWo2qLAvy",
        "outputId": "de81b6b3-2d16-44b4-cdbc-197de28695fa",
        "colab": {
          "base_uri": "https://localhost:8080/"
        }
      },
      "outputs": [
        {
          "output_type": "execute_result",
          "data": {
            "text/plain": [
              "[0.0,\n",
              " 0.0,\n",
              " 0.0,\n",
              " 0.19140625,\n",
              " 0.9296875,\n",
              " 0.98828125,\n",
              " 0.98828125,\n",
              " 0.98828125,\n",
              " 0.98828125,\n",
              " 0.98828125]"
            ]
          },
          "metadata": {},
          "execution_count": 10
        }
      ],
      "source": [
        "lst1 = list(x_train[0])\n",
        "vals = lst1[200:210]\n",
        "vals"
      ]
    },
    {
      "cell_type": "code",
      "execution_count": 11,
      "metadata": {
        "id": "beWdDLlJLAvy"
      },
      "outputs": [],
      "source": [
        "   def chunks(x, sz):\n",
        "    for i in range(0, len(x), sz): yield x[i:i+sz]"
      ]
    },
    {
      "cell_type": "code",
      "execution_count": 12,
      "metadata": {
        "id": "bKRgcsQeLAvy",
        "outputId": "ccf8af4d-8766-4023-8352-c0c943b6f0df",
        "colab": {
          "base_uri": "https://localhost:8080/"
        }
      },
      "outputs": [
        {
          "output_type": "execute_result",
          "data": {
            "text/plain": [
              "[[0.0, 0.0, 0.0, 0.19140625, 0.9296875],\n",
              " [0.98828125, 0.98828125, 0.98828125, 0.98828125, 0.98828125]]"
            ]
          },
          "metadata": {},
          "execution_count": 12
        }
      ],
      "source": [
        "list(chunks(vals, 5))"
      ]
    },
    {
      "cell_type": "code",
      "execution_count": 13,
      "metadata": {
        "id": "k5jOpG1HLAvy",
        "outputId": "67bb3e28-cba8-454a-97c8-eb1ea983f0c3",
        "colab": {
          "base_uri": "https://localhost:8080/",
          "height": 430
        }
      },
      "outputs": [
        {
          "output_type": "display_data",
          "data": {
            "text/plain": [
              "<Figure size 640x480 with 1 Axes>"
            ],
            "image/png": "[encoded data removed]"
          },
          "metadata": {}
        }
      ],
      "source": [
        ""
      ]
    },
    {
      "cell_type": "markdown",
      "metadata": {
        "id": "fPv5R7vkLAvz"
      },
      "source": [
        "[islice](https://docs.python.org/3/library/itertools.html#itertools.islice)"
      ]
    },
    {
      "cell_type": "code",
      "execution_count": 14,
      "metadata": {
        "id": "1OwXbeNNLAvz"
      },
      "outputs": [],
      "source": [
        "from itertools import islice"
      ]
    },
    {
      "cell_type": "code",
      "execution_count": 15,
      "metadata": {
        "id": "vU5d1Lq9LAvz",
        "outputId": "8f5b1b37-79f2-4deb-cebb-641355be5fdd",
        "colab": {
          "base_uri": "https://localhost:8080/"
        }
      },
      "outputs": [
        {
          "output_type": "execute_result",
          "data": {
            "text/plain": [
              "<itertools.islice at 0x7fb68c33f330>"
            ]
          },
          "metadata": {},
          "execution_count": 15
        }
      ],
      "source": [
        "it = iter(vals)\n",
        "islice(it, 5)"
      ]
    },
    {
      "cell_type": "code",
      "execution_count": 16,
      "metadata": {
        "id": "gr_YCt3LLAvz",
        "outputId": "c84c9059-3062-45fd-963e-052cb973ccbf",
        "colab": {
          "base_uri": "https://localhost:8080/"
        }
      },
      "outputs": [
        {
          "output_type": "execute_result",
          "data": {
            "text/plain": [
              "[0.0, 0.0, 0.0, 0.19140625, 0.9296875]"
            ]
          },
          "metadata": {},
          "execution_count": 16
        }
      ],
      "source": [
        "list(islice(it, 5))"
      ]
    },
    {
      "cell_type": "code",
      "execution_count": 17,
      "metadata": {
        "id": "sa9bpO-tLAv0",
        "outputId": "48ab068f-cf78-4713-8208-6cb3a6b76e0d",
        "colab": {
          "base_uri": "https://localhost:8080/"
        }
      },
      "outputs": [
        {
          "output_type": "execute_result",
          "data": {
            "text/plain": [
              "[0.98828125, 0.98828125, 0.98828125, 0.98828125, 0.98828125]"
            ]
          },
          "metadata": {},
          "execution_count": 17
        }
      ],
      "source": [
        "list(islice(it, 5))"
      ]
    },
    {
      "cell_type": "code",
      "execution_count": 18,
      "metadata": {
        "id": "D6a_tjjbLAv0",
        "outputId": "831d8ea6-2ede-46b2-b444-4951c881c983",
        "colab": {
          "base_uri": "https://localhost:8080/"
        }
      },
      "outputs": [
        {
          "output_type": "execute_result",
          "data": {
            "text/plain": [
              "[]"
            ]
          },
          "metadata": {},
          "execution_count": 18
        }
      ],
      "source": [
        "list(islice(it, 5))"
      ]
    },
    {
      "cell_type": "code",
      "execution_count": 29,
      "metadata": {
        "id": "gOml69zkLAv0"
      },
      "outputs": [],
      "source": [
        " it = iter(lst1)\n",
        "img = list(iter(lambda: list(islice(it, 28)), []))"
      ]
    },
    {
      "cell_type": "code",
      "execution_count": 30,
      "metadata": {
        "id": "4UyoXtKrLAv0",
        "outputId": "d0b2cf18-7a38-425f-8b6c-68576588ec06",
        "colab": {
          "base_uri": "https://localhost:8080/",
          "height": 430
        }
      },
      "outputs": [
        {
          "output_type": "display_data",
          "data": {
            "text/plain": [
              "<Figure size 640x480 with 1 Axes>"
            ],
            "image/png": "[encoded data removed]"
          },
          "metadata": {}
        }
      ],
      "source": [
        "plt.imshow(img);"
      ]
    },
    {
      "cell_type": "markdown",
      "metadata": {
        "id": "qhL9O6VSLAv0"
      },
      "source": [
        "## Matrix and tensor"
      ]
    },
    {
      "cell_type": "code",
      "execution_count": 33,
      "metadata": {
        "id": "rWdAw5zVLAv0",
        "outputId": "4085b05d-24e5-4755-8441-d8c45e6b7f57",
        "colab": {
          "base_uri": "https://localhost:8080/"
        }
      },
      "outputs": [
        {
          "output_type": "execute_result",
          "data": {
            "text/plain": [
              "0.86328125"
            ]
          },
          "metadata": {},
          "execution_count": 33
        }
      ],
      "source": [
        "img[20][12]"
      ]
    },
    {
      "cell_type": "code",
      "execution_count": 35,
      "metadata": {
        "id": "q63ucZheLAv0"
      },
      "outputs": [],
      "source": [
        " class Matrix:\n",
        "    def __init__(self, xs): self.xs = xs\n",
        "    def __getitem__(self, idxs): return self.xs[idxs[0]][idxs[1]]"
      ]
    },
    {
      "cell_type": "code",
      "execution_count": 36,
      "metadata": {
        "id": "zaTQhz9fLAv0",
        "outputId": "17e0b48a-854b-43be-ab8c-cc5faefdf42f",
        "colab": {
          "base_uri": "https://localhost:8080/"
        }
      },
      "outputs": [
        {
          "output_type": "execute_result",
          "data": {
            "text/plain": [
              "0.98828125"
            ]
          },
          "metadata": {},
          "execution_count": 36
        }
      ],
      "source": [
        "m = Matrix(img)\n",
        "m[20,15]"
      ]
    },
    {
      "cell_type": "code",
      "execution_count": 37,
      "metadata": {
        "id": "nQXLrNn3LAv1"
      },
      "outputs": [],
      "source": [
        "import torch\n",
        "from torch import tensor"
      ]
    },
    {
      "cell_type": "code",
      "execution_count": 38,
      "metadata": {
        "id": "vw3EKvbbLAv1",
        "outputId": "111f3b7a-b1a8-4de0-8331-048edc706e7f",
        "colab": {
          "base_uri": "https://localhost:8080/"
        }
      },
      "outputs": [
        {
          "output_type": "execute_result",
          "data": {
            "text/plain": [
              "tensor([1, 2, 3])"
            ]
          },
          "metadata": {},
          "execution_count": 38
        }
      ],
      "source": [
        "tensor([1,2,3])"
      ]
    },
    {
      "cell_type": "code",
      "source": [
        "tens = tensor(img)"
      ],
      "metadata": {
        "id": "XS8alEukrl7M"
      },
      "execution_count": 42,
      "outputs": []
    },
    {
      "cell_type": "code",
      "source": [
        "tens[20][15]"
      ],
      "metadata": {
        "id": "bmgmG4sJrqEb",
        "outputId": "29526bf9-fd03-4aad-e01e-abe3f6e702a1",
        "colab": {
          "base_uri": "https://localhost:8080/"
        }
      },
      "execution_count": 46,
      "outputs": [
        {
          "output_type": "execute_result",
          "data": {
            "text/plain": [
              "tensor(0.9883)"
            ]
          },
          "metadata": {},
          "execution_count": 46
        }
      ]
    },
    {
      "cell_type": "code",
      "execution_count": 47,
      "metadata": {
        "id": "HlYnFzQOLAv1",
        "outputId": "70c2e78c-16bb-47f5-9be7-8f5110fe1440",
        "colab": {
          "base_uri": "https://localhost:8080/"
        }
      },
      "outputs": [
        {
          "output_type": "stream",
          "name": "stderr",
          "text": [
            "<ipython-input-47-3301715a5433>:1: UserWarning: To copy construct from a tensor, it is recommended to use sourceTensor.clone().detach() or sourceTensor.clone().detach().requires_grad_(True), rather than torch.tensor(sourceTensor).\n",
            "  x_train,y_train,x_valid,y_valid = map(tensor, (x_train,y_train,x_valid,y_valid))\n"
          ]
        },
        {
          "output_type": "execute_result",
          "data": {
            "text/plain": [
              "torch.Size([50000, 784])"
            ]
          },
          "metadata": {},
          "execution_count": 47
        }
      ],
      "source": [
        "x_train,y_train,x_valid,y_valid = map(tensor, (x_train,y_train,x_valid,y_valid))\n",
        "x_train.shape"
      ]
    },
    {
      "cell_type": "code",
      "execution_count": 48,
      "metadata": {
        "id": "egVSXGDOLAv1",
        "outputId": "a566618a-2ff3-4e77-e5ff-edb4bcc1af7a",
        "colab": {
          "base_uri": "https://localhost:8080/",
          "height": 35
        }
      },
      "outputs": [
        {
          "output_type": "execute_result",
          "data": {
            "text/plain": [
              "'torch.FloatTensor'"
            ],
            "application/vnd.google.colaboratory.intrinsic+json": {
              "type": "string"
            }
          },
          "metadata": {},
          "execution_count": 48
        }
      ],
      "source": [
        "x_train.type()"
      ]
    },
    {
      "cell_type": "markdown",
      "metadata": {
        "id": "4JHixwhLLAv2"
      },
      "source": [
        "[Tensor](https://pytorch.org/docs/stable/tensors.html)"
      ]
    },
    {
      "cell_type": "code",
      "execution_count": 49,
      "metadata": {
        "id": "tNNRMZNhLAv2",
        "outputId": "11b56ad1-6df1-4c5d-f7aa-4c077be811b2",
        "colab": {
          "base_uri": "https://localhost:8080/"
        }
      },
      "outputs": [
        {
          "output_type": "execute_result",
          "data": {
            "text/plain": [
              "torch.Size([50000, 28, 28])"
            ]
          },
          "metadata": {},
          "execution_count": 49
        }
      ],
      "source": [
        "imgs = x_train.reshape((-1,28,28))\n",
        "imgs.shape"
      ]
    },
    {
      "cell_type": "code",
      "execution_count": 50,
      "metadata": {
        "id": "_vGv6O0xLAv2",
        "outputId": "73afdc02-46cc-4bc5-f330-7b780d4263e1",
        "colab": {
          "base_uri": "https://localhost:8080/",
          "height": 430
        }
      },
      "outputs": [
        {
          "output_type": "display_data",
          "data": {
            "text/plain": [
              "<Figure size 640x480 with 1 Axes>"
            ],
            "image/png": "[encoded data removed]"
          },
          "metadata": {}
        }
      ],
      "source": [
        "plt.imshow(imgs[0]);"
      ]
    },
    {
      "cell_type": "code",
      "source": [
        "imgs[0].shape"
      ],
      "metadata": {
        "id": "tWf1WMzTCn9d",
        "outputId": "40cc290b-d333-4d0a-ea1c-e719d1e8a8b1",
        "colab": {
          "base_uri": "https://localhost:8080/"
        }
      },
      "execution_count": 55,
      "outputs": [
        {
          "output_type": "execute_result",
          "data": {
            "text/plain": [
              "torch.Size([28, 28])"
            ]
          },
          "metadata": {},
          "execution_count": 55
        }
      ]
    },
    {
      "cell_type": "code",
      "execution_count": 56,
      "metadata": {
        "id": "a2LBLIXZLAv2",
        "outputId": "f8fbcc55-6727-42e7-dcd0-f468d88a68e3",
        "colab": {
          "base_uri": "https://localhost:8080/"
        }
      },
      "outputs": [
        {
          "output_type": "execute_result",
          "data": {
            "text/plain": [
              "tensor(0.9883)"
            ]
          },
          "metadata": {},
          "execution_count": 56
        }
      ],
      "source": [
        "imgs[0,20,15]"
      ]
    },
    {
      "cell_type": "code",
      "source": [
        "x_train.shape"
      ],
      "metadata": {
        "id": "Yrj_3GNNDpGM",
        "outputId": "801368ce-1a21-435e-a0cd-0e44393cecb0",
        "colab": {
          "base_uri": "https://localhost:8080/"
        }
      },
      "execution_count": 58,
      "outputs": [
        {
          "output_type": "execute_result",
          "data": {
            "text/plain": [
              "torch.Size([50000, 784])"
            ]
          },
          "metadata": {},
          "execution_count": 58
        }
      ]
    },
    {
      "cell_type": "code",
      "source": [
        "n,c = x_train.shape\n",
        "y_train"
      ],
      "metadata": {
        "id": "C_Bl5Pq2D0JJ",
        "outputId": "1790238e-f9e8-414e-fa22-dc616e975ba5",
        "colab": {
          "base_uri": "https://localhost:8080/"
        }
      },
      "execution_count": 65,
      "outputs": [
        {
          "output_type": "execute_result",
          "data": {
            "text/plain": [
              "tensor([5, 0, 4,  ..., 8, 4, 8])"
            ]
          },
          "metadata": {},
          "execution_count": 65
        }
      ]
    },
    {
      "cell_type": "code",
      "execution_count": 57,
      "metadata": {
        "id": "pyNlisqkLAv2",
        "outputId": "6208bfad-72e6-4784-92f7-6f4a056abd86",
        "colab": {
          "base_uri": "https://localhost:8080/"
        }
      },
      "outputs": [
        {
          "output_type": "execute_result",
          "data": {
            "text/plain": [
              "(tensor([5, 0, 4,  ..., 8, 4, 8]), torch.Size([50000]))"
            ]
          },
          "metadata": {},
          "execution_count": 57
        }
      ],
      "source": [
        "n,c = x_train.shape\n",
        "y_train, y_train.shape"
      ]
    },
    {
      "cell_type": "code",
      "execution_count": 66,
      "metadata": {
        "id": "ao8ILO6NLAv3",
        "outputId": "a0c08431-cd43-47b6-e6db-3241ff1b3cfb",
        "colab": {
          "base_uri": "https://localhost:8080/"
        }
      },
      "outputs": [
        {
          "output_type": "execute_result",
          "data": {
            "text/plain": [
              "(tensor(0), tensor(9))"
            ]
          },
          "metadata": {},
          "execution_count": 66
        }
      ],
      "source": [
        " min(y_train),max(y_train)"
      ]
    },
    {
      "cell_type": "code",
      "execution_count": 67,
      "metadata": {
        "id": "PnP1UPdsLAv3",
        "outputId": "2860bd16-c34a-4844-85d7-000d2b724c43",
        "colab": {
          "base_uri": "https://localhost:8080/"
        }
      },
      "outputs": [
        {
          "output_type": "execute_result",
          "data": {
            "text/plain": [
              "(tensor(0), tensor(9))"
            ]
          },
          "metadata": {},
          "execution_count": 67
        }
      ],
      "source": [
        "y_train.min(), y_train.max()"
      ]
    },
    {
      "cell_type": "markdown",
      "metadata": {
        "id": "aSKkKKyALAv3"
      },
      "source": [
        "## Random numbers"
      ]
    },
    {
      "cell_type": "markdown",
      "metadata": {
        "id": "Gt4M13BILAv3"
      },
      "source": [
        "Based on the Wichmann Hill algorithm used before Python 2.3."
      ]
    },
    {
      "cell_type": "code",
      "execution_count": 69,
      "metadata": {
        "id": "p28ZX7htLAv3"
      },
      "outputs": [],
      "source": [
        "rnd_state = None\n",
        "def seed(a):\n",
        "    global rnd_state\n",
        "    a, x = divmod(a, 30268)\n",
        "    a, y = divmod(a, 30306)\n",
        "    a, z = divmod(a, 30322)\n",
        "    rnd_state = int(x)+1, int(y)+1, int(z)+1"
      ]
    },
    {
      "cell_type": "code",
      "execution_count": 70,
      "metadata": {
        "id": "tEbrS7bYLAv3",
        "outputId": "7193955e-acef-4122-db72-ea6c30fc8dd3",
        "colab": {
          "base_uri": "https://localhost:8080/"
        }
      },
      "outputs": [
        {
          "output_type": "execute_result",
          "data": {
            "text/plain": [
              "(4876, 20238, 499)"
            ]
          },
          "metadata": {},
          "execution_count": 70
        }
      ],
      "source": [
        "seed(457428938375)\n",
        "rnd_state"
      ]
    },
    {
      "cell_type": "code",
      "execution_count": 71,
      "metadata": {
        "id": "eEIGQ2G9LAv3"
      },
      "outputs": [],
      "source": [
        "def rand():\n",
        "    global rnd_state\n",
        "    x, y, z = rnd_state\n",
        "    x = (171 * x) % 30269\n",
        "    y = (172 * y) % 30307\n",
        "    z = (170 * z) % 30323\n",
        "    rnd_state = x,y,z\n",
        "    return (x/30269 + y/30307 + z/30323) % 1.0"
      ]
    },
    {
      "cell_type": "code",
      "execution_count": 79,
      "metadata": {
        "id": "UW5fDnt4LAv4",
        "outputId": "71fde99c-14c6-4bf7-aaaa-6615019eb133",
        "colab": {
          "base_uri": "https://localhost:8080/"
        }
      },
      "outputs": [
        {
          "output_type": "execute_result",
          "data": {
            "text/plain": [
              "(0.1507002163170179, 0.00477968248514693, 0.7995281239675747)"
            ]
          },
          "metadata": {},
          "execution_count": 79
        }
      ],
      "source": [
        "rand(),rand(),rand()"
      ]
    },
    {
      "cell_type": "code",
      "execution_count": 80,
      "metadata": {
        "id": "SnPsg-o9LAv4",
        "outputId": "20ca15e6-111d-4646-b09c-500a1d731692",
        "colab": {
          "base_uri": "https://localhost:8080/"
        }
      },
      "outputs": [
        {
          "output_type": "stream",
          "name": "stdout",
          "text": [
            "In parent: 0.984214375011792\n",
            "In child: 0.984214375011792\n"
          ]
        }
      ],
      "source": [
        "if os.fork(): print(f'In parent: {rand()}')\n",
        "else:\n",
        "    print(f'In child: {rand()}')\n",
        "    os._exit(os.EX_OK)"
      ]
    },
    {
      "cell_type": "code",
      "execution_count": 81,
      "metadata": {
        "id": "rsas55p3LAv4",
        "outputId": "bac401cf-bbe8-4692-d9af-42c362fedd59",
        "colab": {
          "base_uri": "https://localhost:8080/"
        }
      },
      "outputs": [
        {
          "output_type": "stream",
          "name": "stdout",
          "text": [
            "In parent: tensor([0.5732])\n",
            "In child: tensor([0.5732])\n"
          ]
        }
      ],
      "source": [
        "if os.fork(): print(f'In parent: {torch.rand(1)}')\n",
        "else:\n",
        "    print(f'In child: {torch.rand(1)}')\n",
        "    os._exit(os.EX_OK)"
      ]
    },
    {
      "cell_type": "markdown",
      "source": [
        "NumPy gets it right? no"
      ],
      "metadata": {
        "id": "gRlirTMfbMlz"
      }
    },
    {
      "cell_type": "code",
      "source": [
        "import numpy as np"
      ],
      "metadata": {
        "id": "oxF12YxzbNAw"
      },
      "execution_count": 85,
      "outputs": []
    },
    {
      "cell_type": "code",
      "source": [
        "if os.fork(): print(f'In parent: {np.random.rand(1)}')\n",
        "else:\n",
        "    print(f'In child: {np.random.rand(1)}')\n",
        "    os._exit(os.EX_OK)"
      ],
      "metadata": {
        "id": "fJKqNuXqbG7H"
      },
      "execution_count": null,
      "outputs": []
    },
    {
      "cell_type": "markdown",
      "source": [
        "Python does"
      ],
      "metadata": {
        "id": "l44w9ygib1TN"
      }
    },
    {
      "cell_type": "code",
      "source": [
        "from random import random"
      ],
      "metadata": {
        "id": "AowRoQMdb6Fi"
      },
      "execution_count": 91,
      "outputs": []
    },
    {
      "cell_type": "code",
      "source": [
        "if os.fork(): print(f'In parent: {random()}')\n",
        "else:\n",
        "    print(f'In child: {random()}')\n",
        "    os._exit(os.EX_OK)"
      ],
      "metadata": {
        "id": "FefivlbDcN_j"
      },
      "execution_count": null,
      "outputs": []
    },
    {
      "cell_type": "code",
      "execution_count": null,
      "metadata": {
        "id": "lCHEQ_3nLAv4"
      },
      "outputs": [],
      "source": [
        "  plt.plot([rand() for _ in range(50)]);"
      ]
    },
    {
      "cell_type": "code",
      "execution_count": 83,
      "metadata": {
        "id": "w9ieREdgLAv4",
        "outputId": "1f48a8b9-d1c5-4524-cb44-fdd48433a03e",
        "colab": {
          "base_uri": "https://localhost:8080/",
          "height": 430
        }
      },
      "outputs": [
        {
          "output_type": "display_data",
          "data": {
            "text/plain": [
              "<Figure size 640x480 with 1 Axes>"
            ],
            "image/png": "[encoded data removed]"
          },
          "metadata": {}
        }
      ],
      "source": [
        "plt.hist([rand() for _ in range(10000)]);"
      ]
    },
    {
      "cell_type": "code",
      "execution_count": null,
      "metadata": {
        "id": "jkX6_pMGLAv4",
        "outputId": "2edcc008-e06e-4d7e-9a9e-6ff0b2ae7679"
      },
      "outputs": [
        {
          "name": "stdout",
          "output_type": "stream",
          "text": [
            "2.67 ms ± 15.9 µs per loop (mean ± std. dev. of 7 runs, 10 loops each)\n"
          ]
        }
      ],
      "source": [
        "%timeit -n 10 list(chunks([rand() for _ in range(7840)], 10))"
      ]
    },
    {
      "cell_type": "code",
      "execution_count": null,
      "metadata": {
        "id": "4psrRuM8LAv4",
        "outputId": "a14cb293-0cd5-44d2-9abf-91bd4c0cd8e9"
      },
      "outputs": [
        {
          "name": "stdout",
          "output_type": "stream",
          "text": [
            "37.8 µs ± 12.9 µs per loop (mean ± std. dev. of 7 runs, 10 loops each)\n"
          ]
        }
      ],
      "source": [
        "%timeit -n 10 torch.randn(784,10)"
      ]
    },
    {
      "cell_type": "markdown",
      "metadata": {
        "id": "ZC0x38YULAv4"
      },
      "source": [
        "## Matrix multiplication"
      ]
    },
    {
      "cell_type": "code",
      "execution_count": null,
      "metadata": {
        "id": "Pb2D24WVLAv4"
      },
      "outputs": [],
      "source": [
        "torch.manual_seed(1)\n",
        "weights = torch.randn(784,10)\n",
        "bias = torch.zeros(10)"
      ]
    },
    {
      "cell_type": "code",
      "execution_count": null,
      "metadata": {
        "id": "7jdRVW1sLAv4"
      },
      "outputs": [],
      "source": [
        "m1 = x_valid[:5]\n",
        "m2 = weights"
      ]
    },
    {
      "cell_type": "code",
      "execution_count": null,
      "metadata": {
        "id": "9tB_6Y7zLAv4",
        "outputId": "981610bd-91b3-4037-8acd-2bcd4f69b9c9"
      },
      "outputs": [
        {
          "data": {
            "text/plain": [
              "(torch.Size([5, 784]), torch.Size([784, 10]))"
            ]
          },
          "execution_count": null,
          "metadata": {},
          "output_type": "execute_result"
        }
      ],
      "source": [
        "m1.shape,m2.shape"
      ]
    },
    {
      "cell_type": "code",
      "execution_count": null,
      "metadata": {
        "id": "7Dnr2vt-LAv5",
        "outputId": "ad3d9acf-2c4a-474b-be5d-94b5598f368f"
      },
      "outputs": [
        {
          "data": {
            "text/plain": [
              "((5, 784), (784, 10))"
            ]
          },
          "execution_count": null,
          "metadata": {},
          "output_type": "execute_result"
        }
      ],
      "source": [
        "ar,ac = m1.shape # n_rows * n_cols\n",
        "br,bc = m2.shape\n",
        "(ar,ac),(br,bc)"
      ]
    },
    {
      "cell_type": "code",
      "execution_count": null,
      "metadata": {
        "id": "PJB6p1X5LAv5",
        "outputId": "ecec3944-ba34-4ab6-e2ae-506cede03188"
      },
      "outputs": [
        {
          "data": {
            "text/plain": [
              "torch.Size([5, 10])"
            ]
          },
          "execution_count": null,
          "metadata": {},
          "output_type": "execute_result"
        }
      ],
      "source": [
        "t1 = torch.zeros(ar, bc)\n",
        "t1.shape"
      ]
    },
    {
      "cell_type": "code",
      "execution_count": null,
      "metadata": {
        "id": "JqYqdP4fLAv5"
      },
      "outputs": [],
      "source": [
        "for i in range(ar):         # 5\n",
        "    for j in range(bc):     # 10\n",
        "        for k in range(ac): # 784\n",
        "            t1[i,j] += m1[i,k] * m2[k,j]"
      ]
    },
    {
      "cell_type": "code",
      "execution_count": null,
      "metadata": {
        "id": "K3k9Cg7RLAv5",
        "outputId": "213035e2-9abc-49c0-e63b-989b480e55aa"
      },
      "outputs": [
        {
          "data": {
            "text/plain": [
              "tensor([[-10.9417,  -0.6844,  -7.0038,  -4.0066,  -2.0857,  -3.3588,   3.9127,\n",
              "          -3.4375, -11.4696,  -2.1153],\n",
              "        [ 14.5430,   5.9977,   2.8914,  -4.0777,   6.5914, -14.7383,  -9.2787,\n",
              "           2.1577, -15.2772,  -2.6758],\n",
              "        [  2.2204,  -3.2171,  -4.7988,  -6.0453,  14.1661,  -8.9824,  -4.7922,\n",
              "          -5.4446, -20.6758,  13.5657],\n",
              "        [ -6.7097,   8.8998,  -7.4611,  -7.8966,   2.6994,  -4.7260, -11.0278,\n",
              "         -12.9776,  -6.4443,   3.6376],\n",
              "        [ -2.4444,  -6.4034,  -2.3984,  -9.0371,  11.1772,  -5.7724,  -8.9214,\n",
              "          -3.7862,  -8.9827,   5.2797]])"
            ]
          },
          "execution_count": null,
          "metadata": {},
          "output_type": "execute_result"
        }
      ],
      "source": [
        "t1"
      ]
    },
    {
      "cell_type": "code",
      "execution_count": null,
      "metadata": {
        "id": "s21nDs1LLAv5",
        "outputId": "0e160ba0-6a15-479b-d07d-d91db2990f37"
      },
      "outputs": [
        {
          "data": {
            "text/plain": [
              "torch.Size([5, 10])"
            ]
          },
          "execution_count": null,
          "metadata": {},
          "output_type": "execute_result"
        }
      ],
      "source": [
        "t1.shape"
      ]
    },
    {
      "cell_type": "code",
      "execution_count": null,
      "metadata": {
        "id": "KB5cPtLILAv5",
        "outputId": "99c827c9-6665-4db6-f19c-af510ef935ba"
      },
      "outputs": [
        {
          "data": {
            "text/plain": [
              "tensor([[-10.94,  -0.68,  -7.00,  -4.01,  -2.09,  -3.36,   3.91,  -3.44, -11.47,  -2.12],\n",
              "        [ 14.54,   6.00,   2.89,  -4.08,   6.59, -14.74,  -9.28,   2.16, -15.28,  -2.68],\n",
              "        [  2.22,  -3.22,  -4.80,  -6.05,  14.17,  -8.98,  -4.79,  -5.44, -20.68,  13.57],\n",
              "        [ -6.71,   8.90,  -7.46,  -7.90,   2.70,  -4.73, -11.03, -12.98,  -6.44,   3.64],\n",
              "        [ -2.44,  -6.40,  -2.40,  -9.04,  11.18,  -5.77,  -8.92,  -3.79,  -8.98,   5.28]])"
            ]
          },
          "execution_count": null,
          "metadata": {},
          "output_type": "execute_result"
        }
      ],
      "source": [
        "torch.set_printoptions(precision=2, linewidth=140, sci_mode=False)\n",
        "t1"
      ]
    },
    {
      "cell_type": "code",
      "execution_count": null,
      "metadata": {
        "id": "KWHk7nwCLAv5"
      },
      "outputs": [],
      "source": [
        "import numpy as np\n",
        "np.set_printoptions(precision=2, linewidth=140)"
      ]
    },
    {
      "cell_type": "code",
      "execution_count": null,
      "metadata": {
        "id": "0z8i9NOtLAv5"
      },
      "outputs": [],
      "source": [
        "def matmul(a,b):\n",
        "    (ar,ac),(br,bc) = a.shape,b.shape\n",
        "    c = torch.zeros(ar, bc)\n",
        "    for i in range(ar):\n",
        "        for j in range(bc):\n",
        "            for k in range(ac): c[i,j] += a[i,k] * b[k,j]\n",
        "    return c"
      ]
    },
    {
      "cell_type": "code",
      "execution_count": null,
      "metadata": {
        "id": "EUYSuXuQLAv5",
        "outputId": "8ee53b24-d700-432b-dc49-26b7a20e98ac"
      },
      "outputs": [
        {
          "name": "stdout",
          "output_type": "stream",
          "text": [
            "CPU times: user 421 ms, sys: 131 µs, total: 421 ms\n",
            "Wall time: 421 ms\n"
          ]
        }
      ],
      "source": [
        "%time _=matmul(m1, m2)"
      ]
    },
    {
      "cell_type": "code",
      "execution_count": null,
      "metadata": {
        "id": "3a7elR6gLAv5",
        "outputId": "6dc467a1-f1a3-4d28-f99a-096d4a5d05d6"
      },
      "outputs": [
        {
          "data": {
            "text/plain": [
              "39200"
            ]
          },
          "execution_count": null,
          "metadata": {},
          "output_type": "execute_result"
        }
      ],
      "source": [
        "ar*bc*ac"
      ]
    },
    {
      "cell_type": "markdown",
      "metadata": {
        "id": "GddrJp64LAv5"
      },
      "source": [
        "## Numba"
      ]
    },
    {
      "cell_type": "code",
      "execution_count": null,
      "metadata": {
        "id": "P3RWGCPmLAv5"
      },
      "outputs": [],
      "source": [
        "from numba import njit"
      ]
    },
    {
      "cell_type": "code",
      "execution_count": null,
      "metadata": {
        "id": "3BQ3QAp8LAv5"
      },
      "outputs": [],
      "source": [
        "@njit\n",
        "def dot(a,b):\n",
        "    res = 0.\n",
        "    for i in range(len(a)): res+=a[i]*b[i]\n",
        "    return res"
      ]
    },
    {
      "cell_type": "code",
      "execution_count": null,
      "metadata": {
        "id": "tBCPXKiELAv5"
      },
      "outputs": [],
      "source": [
        "from numpy import array"
      ]
    },
    {
      "cell_type": "code",
      "execution_count": null,
      "metadata": {
        "id": "GYNDkirjLAv6",
        "outputId": "1b5b9cd5-a81e-431e-de7d-684ee3995be8"
      },
      "outputs": [
        {
          "name": "stdout",
          "output_type": "stream",
          "text": [
            "CPU times: user 184 ms, sys: 12 ms, total: 196 ms\n",
            "Wall time: 196 ms\n"
          ]
        },
        {
          "data": {
            "text/plain": [
              "20.0"
            ]
          },
          "execution_count": null,
          "metadata": {},
          "output_type": "execute_result"
        }
      ],
      "source": [
        "%time dot(array([1.,2,3]),array([2.,3,4]))"
      ]
    },
    {
      "cell_type": "code",
      "execution_count": null,
      "metadata": {
        "id": "6qQHhPh0LAv6",
        "outputId": "8a870c21-7e19-4c34-a004-3d042b872a5f"
      },
      "outputs": [
        {
          "name": "stdout",
          "output_type": "stream",
          "text": [
            "CPU times: user 15 µs, sys: 0 ns, total: 15 µs\n",
            "Wall time: 17.6 µs\n"
          ]
        },
        {
          "data": {
            "text/plain": [
              "20.0"
            ]
          },
          "execution_count": null,
          "metadata": {},
          "output_type": "execute_result"
        }
      ],
      "source": [
        "%time dot(array([1.,2,3]),array([2.,3,4]))"
      ]
    },
    {
      "cell_type": "markdown",
      "metadata": {
        "id": "MRw_2g15LAv6"
      },
      "source": [
        "Now only two of our loops are running in Python, not three:"
      ]
    },
    {
      "cell_type": "code",
      "execution_count": null,
      "metadata": {
        "id": "76GhNmUwLAv6"
      },
      "outputs": [],
      "source": [
        "def matmul(a,b):\n",
        "    (ar,ac),(br,bc) = a.shape,b.shape\n",
        "    c = torch.zeros(ar, bc)\n",
        "    for i in range(ar):\n",
        "        for j in range(bc): c[i,j] = dot(a[i,:], b[:,j])\n",
        "    return c"
      ]
    },
    {
      "cell_type": "code",
      "execution_count": null,
      "metadata": {
        "id": "qYgBeMplLAv6"
      },
      "outputs": [],
      "source": [
        "m1a,m2a = m1.numpy(),m2.numpy()"
      ]
    },
    {
      "cell_type": "code",
      "execution_count": null,
      "metadata": {
        "id": "ccf_4YzgLAv6"
      },
      "outputs": [],
      "source": [
        "from fastcore.test import *"
      ]
    },
    {
      "cell_type": "code",
      "execution_count": null,
      "metadata": {
        "id": "DFxQS2sCLAv6"
      },
      "outputs": [],
      "source": [
        "test_close(t1,matmul(m1a, m2a))"
      ]
    },
    {
      "cell_type": "code",
      "execution_count": null,
      "metadata": {
        "id": "hF86DI4jLAv6",
        "outputId": "c59ecbb0-c6c5-46d4-9b8d-b5dbb1fcd79d"
      },
      "outputs": [
        {
          "name": "stdout",
          "output_type": "stream",
          "text": [
            "236 µs ± 3.51 µs per loop (mean ± std. dev. of 7 runs, 50 loops each)\n"
          ]
        }
      ],
      "source": [
        "%timeit -n 50 matmul(m1a,m2a)"
      ]
    },
    {
      "cell_type": "markdown",
      "metadata": {
        "id": "3XlILx8hLAv6"
      },
      "source": [
        "## Elementwise ops"
      ]
    },
    {
      "cell_type": "markdown",
      "metadata": {
        "id": "YTdFMNc9LAv6"
      },
      "source": [
        "[TryAPL](https://tryapl.org/)"
      ]
    },
    {
      "cell_type": "code",
      "execution_count": null,
      "metadata": {
        "id": "Rp16WQnOLAv6",
        "outputId": "e1d55e8e-d558-4488-fc7d-1de4dedeea1f"
      },
      "outputs": [
        {
          "data": {
            "text/plain": [
              "(tensor([10.,  6., -4.]), tensor([2., 8., 7.]))"
            ]
          },
          "execution_count": null,
          "metadata": {},
          "output_type": "execute_result"
        }
      ],
      "source": [
        "a = tensor([10., 6, -4])\n",
        "b = tensor([2., 8, 7])\n",
        "a,b"
      ]
    },
    {
      "cell_type": "code",
      "execution_count": null,
      "metadata": {
        "id": "m7029Gm3LAv6",
        "outputId": "af3bd60d-cfed-4f1d-da97-2c33cf05b0d9"
      },
      "outputs": [
        {
          "data": {
            "text/plain": [
              "tensor([12., 14.,  3.])"
            ]
          },
          "execution_count": null,
          "metadata": {},
          "output_type": "execute_result"
        }
      ],
      "source": [
        "a + b"
      ]
    },
    {
      "cell_type": "code",
      "execution_count": null,
      "metadata": {
        "id": "JoY9MqqGLAv6",
        "outputId": "a92de30e-c303-4cf8-dcee-e3a44bd75555"
      },
      "outputs": [
        {
          "data": {
            "text/plain": [
              "tensor(0.67)"
            ]
          },
          "execution_count": null,
          "metadata": {},
          "output_type": "execute_result"
        }
      ],
      "source": [
        "(a < b).float().mean()"
      ]
    },
    {
      "cell_type": "code",
      "execution_count": null,
      "metadata": {
        "id": "YiavEM5FLAv6",
        "outputId": "c95232c8-5cbb-4b18-b612-0b01c07f3077"
      },
      "outputs": [
        {
          "data": {
            "text/plain": [
              "tensor([[1., 2., 3.],\n",
              "        [4., 5., 6.],\n",
              "        [7., 8., 9.]])"
            ]
          },
          "execution_count": null,
          "metadata": {},
          "output_type": "execute_result"
        }
      ],
      "source": [
        "m = tensor([[1., 2, 3], [4,5,6], [7,8,9]]); m"
      ]
    },
    {
      "cell_type": "markdown",
      "metadata": {
        "id": "zE6bi1_aLAv6"
      },
      "source": [
        "Frobenius norm:\n",
        "\n",
        "$$\\| A \\|_F = \\left( \\sum_{i,j=1}^n | a_{ij} |^2 \\right)^{1/2}$$\n",
        "\n",
        "*Hint*: you don't normally need to write equations in LaTeX yourself, instead, you can click 'edit' in Wikipedia and copy the LaTeX from there (which is what I did for the above equation). Or on arxiv.org, click \"Download: Other formats\" in the top right, then \"Download source\"; rename the downloaded file to end in `.tgz` if it doesn't already, and you should find the source there, including the equations to copy and paste. This is the source LaTeX that I pasted to render the equation above:\n",
        "\n",
        "```latex\n",
        "$$\\| A \\|_F = \\left( \\sum_{i,j=1}^n | a_{ij} |^2 \\right)^{1/2}$$\n",
        "```"
      ]
    },
    {
      "cell_type": "code",
      "execution_count": null,
      "metadata": {
        "id": "cfiOwODiLAv6",
        "outputId": "a1bc37d0-907c-41d7-dfdc-29a292927753"
      },
      "outputs": [
        {
          "data": {
            "text/plain": [
              "tensor(285.)"
            ]
          },
          "execution_count": null,
          "metadata": {},
          "output_type": "execute_result"
        }
      ],
      "source": [
        "sf = (m*m).sum()\n",
        "sf"
      ]
    },
    {
      "cell_type": "code",
      "execution_count": null,
      "metadata": {
        "id": "kNpoZDrTLAv7",
        "outputId": "7fc48998-8b2a-4f61-8bec-68ba2d0bf504"
      },
      "outputs": [
        {
          "data": {
            "text/plain": [
              "tensor(16.88)"
            ]
          },
          "execution_count": null,
          "metadata": {},
          "output_type": "execute_result"
        }
      ],
      "source": [
        "sf.sqrt()"
      ]
    },
    {
      "cell_type": "code",
      "execution_count": null,
      "metadata": {
        "id": "0KJS1uzmLAv7",
        "outputId": "1b1c8883-b3c9-46ae-9ea7-8df1960775a9"
      },
      "outputs": [
        {
          "data": {
            "text/plain": [
              "(tensor([7., 8., 9.]), tensor([3., 6., 9.]))"
            ]
          },
          "execution_count": null,
          "metadata": {},
          "output_type": "execute_result"
        }
      ],
      "source": [
        "m[2,:],m[:,2]"
      ]
    },
    {
      "cell_type": "code",
      "execution_count": null,
      "metadata": {
        "id": "uBed3ecQLAv7",
        "outputId": "9d688e02-8302-4c7c-9561-3fc06f151e84"
      },
      "outputs": [
        {
          "data": {
            "text/plain": [
              "tensor([7., 8., 9.])"
            ]
          },
          "execution_count": null,
          "metadata": {},
          "output_type": "execute_result"
        }
      ],
      "source": [
        "m[2]"
      ]
    },
    {
      "cell_type": "code",
      "execution_count": null,
      "metadata": {
        "id": "9vO9m9yrLAv7"
      },
      "outputs": [],
      "source": [
        "def matmul(a,b):\n",
        "    (ar,ac),(br,bc) = a.shape,b.shape\n",
        "    c = torch.zeros(ar, bc)\n",
        "    for i in range(ar):\n",
        "        for j in range(bc): c[i,j] = (a[i,:] * b[:,j]).sum()\n",
        "    return c"
      ]
    },
    {
      "cell_type": "code",
      "execution_count": null,
      "metadata": {
        "id": "M43J350SLAv7"
      },
      "outputs": [],
      "source": [
        "test_close(t1,matmul(m1, m2))"
      ]
    },
    {
      "cell_type": "code",
      "execution_count": null,
      "metadata": {
        "id": "ZELgJhOiLAv7",
        "outputId": "72d99f81-7372-4504-af93-ac9f0569286b"
      },
      "outputs": [
        {
          "name": "stdout",
          "output_type": "stream",
          "text": [
            "598 µs ± 4.2 µs per loop (mean ± std. dev. of 7 runs, 50 loops each)\n"
          ]
        }
      ],
      "source": [
        "%timeit -n 50 _=matmul(m1, m2)"
      ]
    },
    {
      "cell_type": "code",
      "execution_count": null,
      "metadata": {
        "id": "Pt10xayELAv7"
      },
      "outputs": [],
      "source": [
        "def matmul(a,b):\n",
        "    (ar,ac),(br,bc) = a.shape,b.shape\n",
        "    c = torch.zeros(ar, bc)\n",
        "    for i in range(ar):\n",
        "        for j in range(bc): c[i,j] = torch.dot(a[i,:], b[:,j])\n",
        "    return c"
      ]
    },
    {
      "cell_type": "code",
      "execution_count": null,
      "metadata": {
        "id": "Rvx6k6pPLAv7"
      },
      "outputs": [],
      "source": [
        "test_close(t1,matmul(m1, m2))"
      ]
    },
    {
      "cell_type": "code",
      "execution_count": null,
      "metadata": {
        "id": "ooZxCosQLAv7",
        "outputId": "690f1db8-faea-42fc-e7ab-03c79f8a2096"
      },
      "outputs": [
        {
          "name": "stdout",
          "output_type": "stream",
          "text": [
            "481 µs ± 4.9 µs per loop (mean ± std. dev. of 7 runs, 50 loops each)\n"
          ]
        }
      ],
      "source": [
        "%timeit -n 50 _=matmul(m1, m2)"
      ]
    },
    {
      "cell_type": "markdown",
      "metadata": {
        "id": "UDbP2QUyLAv7"
      },
      "source": [
        "## Broadcasting"
      ]
    },
    {
      "cell_type": "markdown",
      "metadata": {
        "id": "xdTuvCyhLAv7"
      },
      "source": [
        "The term **broadcasting** describes how arrays with different shapes are treated during arithmetic operations.\n",
        "\n",
        "From the [Numpy Documentation](https://docs.scipy.org/doc/numpy-1.10.0/user/basics.broadcasting.html):\n",
        "\n",
        "    The term broadcasting describes how numpy treats arrays with\n",
        "    different shapes during arithmetic operations. Subject to certain\n",
        "    constraints, the smaller array is “broadcast” across the larger\n",
        "    array so that they have compatible shapes. Broadcasting provides a\n",
        "    means of vectorizing array operations so that looping occurs in C\n",
        "    instead of Python. It does this without making needless copies of\n",
        "    data and usually leads to efficient algorithm implementations.\n",
        "    \n",
        "In addition to the efficiency of broadcasting, it allows developers to write less code, which typically leads to fewer errors.\n",
        "\n",
        "*This section was adapted from [Chapter 4](http://nbviewer.jupyter.org/github/fastai/numerical-linear-algebra/blob/master/nbs/4.%20Compressed%20Sensing%20of%20CT%20Scans%20with%20Robust%20Regression.ipynb#4.-Compressed-Sensing-of-CT-Scans-with-Robust-Regression) of the fast.ai [Computational Linear Algebra](https://github.com/fastai/numerical-linear-algebra) course.*"
      ]
    },
    {
      "cell_type": "markdown",
      "metadata": {
        "id": "yBm81piFLAv7"
      },
      "source": [
        "### Broadcasting with a scalar"
      ]
    },
    {
      "cell_type": "code",
      "execution_count": null,
      "metadata": {
        "id": "GFDIE3kRLAv7",
        "outputId": "b492edfe-0e13-40c5-904b-e80c78a62c7d"
      },
      "outputs": [
        {
          "data": {
            "text/plain": [
              "tensor([10.,  6., -4.])"
            ]
          },
          "execution_count": null,
          "metadata": {},
          "output_type": "execute_result"
        }
      ],
      "source": [
        "a"
      ]
    },
    {
      "cell_type": "code",
      "execution_count": null,
      "metadata": {
        "id": "WCzmH0gpLAv7",
        "outputId": "d47b25ce-71bc-4d85-c431-463891e9c50e"
      },
      "outputs": [
        {
          "data": {
            "text/plain": [
              "tensor([ True,  True, False])"
            ]
          },
          "execution_count": null,
          "metadata": {},
          "output_type": "execute_result"
        }
      ],
      "source": [
        "a > 0"
      ]
    },
    {
      "cell_type": "markdown",
      "metadata": {
        "id": "kG2XgAAXLAv7"
      },
      "source": [
        "How are we able to do `a > 0`?  0 is being **broadcast** to have the same dimensions as a.\n",
        "\n",
        "For instance you can normalize our dataset by subtracting the mean (a scalar) from the entire data set (a matrix) and dividing by the standard deviation (another scalar), using broadcasting.\n",
        "\n",
        "Other examples of broadcasting with a scalar:"
      ]
    },
    {
      "cell_type": "code",
      "execution_count": null,
      "metadata": {
        "id": "WMizPH-8LAv8",
        "outputId": "482cac8b-1a55-45f6-d0ab-cef839dae9ce"
      },
      "outputs": [
        {
          "data": {
            "text/plain": [
              "tensor([11.,  7., -3.])"
            ]
          },
          "execution_count": null,
          "metadata": {},
          "output_type": "execute_result"
        }
      ],
      "source": [
        "a + 1"
      ]
    },
    {
      "cell_type": "code",
      "execution_count": null,
      "metadata": {
        "id": "5qE56_jXLAv8",
        "outputId": "c84c85cb-58d4-4b1a-d9c4-1038c1bf0fd1"
      },
      "outputs": [
        {
          "data": {
            "text/plain": [
              "tensor([[1., 2., 3.],\n",
              "        [4., 5., 6.],\n",
              "        [7., 8., 9.]])"
            ]
          },
          "execution_count": null,
          "metadata": {},
          "output_type": "execute_result"
        }
      ],
      "source": [
        "m"
      ]
    },
    {
      "cell_type": "code",
      "execution_count": null,
      "metadata": {
        "id": "FK72c2iBLAv8",
        "outputId": "cad67aed-522b-42a4-ebdf-15b9758d8528"
      },
      "outputs": [
        {
          "data": {
            "text/plain": [
              "tensor([[ 2.,  4.,  6.],\n",
              "        [ 8., 10., 12.],\n",
              "        [14., 16., 18.]])"
            ]
          },
          "execution_count": null,
          "metadata": {},
          "output_type": "execute_result"
        }
      ],
      "source": [
        "2*m"
      ]
    },
    {
      "cell_type": "markdown",
      "metadata": {
        "id": "Qx51uzUlLAv8"
      },
      "source": [
        "### Broadcasting a vector to a matrix"
      ]
    },
    {
      "cell_type": "markdown",
      "metadata": {
        "id": "1KBhtPL1LAv8"
      },
      "source": [
        "Although broadcasting a scalar is an idea that dates back to APL, the more powerful idea of broadcasting across higher rank tensors [comes from](https://mail.python.org/pipermail/matrix-sig/1995-November/000143.html) a little known language called [Yorick](https://software.llnl.gov/yorick-doc/manual/yorick_50.html).\n",
        "\n",
        "We can also broadcast a vector to a matrix:"
      ]
    },
    {
      "cell_type": "code",
      "execution_count": null,
      "metadata": {
        "id": "yBbvqF3oLAv8",
        "outputId": "d360c067-848e-4470-f350-f414fa7df90e"
      },
      "outputs": [
        {
          "data": {
            "text/plain": [
              "tensor([10., 20., 30.])"
            ]
          },
          "execution_count": null,
          "metadata": {},
          "output_type": "execute_result"
        }
      ],
      "source": [
        "c = tensor([10.,20,30]); c"
      ]
    },
    {
      "cell_type": "code",
      "execution_count": null,
      "metadata": {
        "id": "YJEDVCgBLAv8",
        "outputId": "326bb6cf-fa04-4e83-98cb-38bd277eb8ae"
      },
      "outputs": [
        {
          "data": {
            "text/plain": [
              "tensor([[1., 2., 3.],\n",
              "        [4., 5., 6.],\n",
              "        [7., 8., 9.]])"
            ]
          },
          "execution_count": null,
          "metadata": {},
          "output_type": "execute_result"
        }
      ],
      "source": [
        "m"
      ]
    },
    {
      "cell_type": "code",
      "execution_count": null,
      "metadata": {
        "id": "71DVHaDwLAv8",
        "outputId": "cbdff822-39bb-4ffd-cb82-be9e44421f94"
      },
      "outputs": [
        {
          "data": {
            "text/plain": [
              "(torch.Size([3, 3]), torch.Size([3]))"
            ]
          },
          "execution_count": null,
          "metadata": {},
          "output_type": "execute_result"
        }
      ],
      "source": [
        "m.shape,c.shape"
      ]
    },
    {
      "cell_type": "code",
      "execution_count": null,
      "metadata": {
        "id": "FaUHPc-FLAv8",
        "outputId": "411c9103-71f3-4432-efd8-f32a314e83e2"
      },
      "outputs": [
        {
          "data": {
            "text/plain": [
              "tensor([[11., 22., 33.],\n",
              "        [14., 25., 36.],\n",
              "        [17., 28., 39.]])"
            ]
          },
          "execution_count": null,
          "metadata": {},
          "output_type": "execute_result"
        }
      ],
      "source": [
        "m + c"
      ]
    },
    {
      "cell_type": "code",
      "execution_count": null,
      "metadata": {
        "id": "PO0mpAt3LAv8",
        "outputId": "5b5762b4-a740-40c9-b3f5-47b5312f48e0"
      },
      "outputs": [
        {
          "data": {
            "text/plain": [
              "tensor([[11., 22., 33.],\n",
              "        [14., 25., 36.],\n",
              "        [17., 28., 39.]])"
            ]
          },
          "execution_count": null,
          "metadata": {},
          "output_type": "execute_result"
        }
      ],
      "source": [
        "c + m"
      ]
    },
    {
      "cell_type": "code",
      "execution_count": null,
      "metadata": {
        "id": "xWo8Dh0ILAv8"
      },
      "outputs": [],
      "source": [
        "t = c.expand_as(m)"
      ]
    },
    {
      "cell_type": "code",
      "execution_count": null,
      "metadata": {
        "id": "VthdIZkwLAv8",
        "outputId": "fa9dc217-238d-455e-8258-09794609f583"
      },
      "outputs": [
        {
          "data": {
            "text/plain": [
              "tensor([[10., 20., 30.],\n",
              "        [10., 20., 30.],\n",
              "        [10., 20., 30.]])"
            ]
          },
          "execution_count": null,
          "metadata": {},
          "output_type": "execute_result"
        }
      ],
      "source": [
        "t"
      ]
    },
    {
      "cell_type": "code",
      "execution_count": null,
      "metadata": {
        "id": "zInirdzSLAv8",
        "outputId": "98ec4f4d-cfdd-477c-d318-5eab7a3af0f8"
      },
      "outputs": [
        {
          "data": {
            "text/plain": [
              "tensor([[11., 22., 33.],\n",
              "        [14., 25., 36.],\n",
              "        [17., 28., 39.]])"
            ]
          },
          "execution_count": null,
          "metadata": {},
          "output_type": "execute_result"
        }
      ],
      "source": [
        "m + t"
      ]
    },
    {
      "cell_type": "markdown",
      "metadata": {
        "id": "QjPj7tySLAv8"
      },
      "source": [
        "We don't really copy the rows, but it looks as if we did. In fact, the rows are given a *stride* of 0."
      ]
    },
    {
      "cell_type": "code",
      "execution_count": null,
      "metadata": {
        "id": "qNTnL29-LAv8",
        "outputId": "c3d5d5ee-190a-4ea3-9f08-3c51c7046f8f"
      },
      "outputs": [
        {
          "data": {
            "text/plain": [
              " 10.0\n",
              " 20.0\n",
              " 30.0\n",
              "[torch.storage._TypedStorage(dtype=torch.float32, device=cpu) of size 3]"
            ]
          },
          "execution_count": null,
          "metadata": {},
          "output_type": "execute_result"
        }
      ],
      "source": [
        "t.storage()"
      ]
    },
    {
      "cell_type": "code",
      "execution_count": null,
      "metadata": {
        "id": "EUSr7H1mLAv8",
        "outputId": "39eb0717-c8b8-41ff-cdb4-f3a713e0e7bf"
      },
      "outputs": [
        {
          "data": {
            "text/plain": [
              "((0, 1), torch.Size([3, 3]))"
            ]
          },
          "execution_count": null,
          "metadata": {},
          "output_type": "execute_result"
        }
      ],
      "source": [
        "t.stride(), t.shape"
      ]
    },
    {
      "cell_type": "markdown",
      "metadata": {
        "id": "4BXalm3ILAv8"
      },
      "source": [
        "You can index with the special value [None] or use `unsqueeze()` to convert a 1-dimensional array into a 2-dimensional array (although one of those dimensions has value 1)."
      ]
    },
    {
      "cell_type": "code",
      "execution_count": null,
      "metadata": {
        "id": "wDRm1vtxLAv8",
        "outputId": "28f6c316-323b-4dad-b167-d2411129c28f"
      },
      "outputs": [
        {
          "data": {
            "text/plain": [
              "(tensor([[10., 20., 30.]]), tensor([[10., 20., 30.]]))"
            ]
          },
          "execution_count": null,
          "metadata": {},
          "output_type": "execute_result"
        }
      ],
      "source": [
        "c.unsqueeze(0), c[None, :]"
      ]
    },
    {
      "cell_type": "code",
      "execution_count": null,
      "metadata": {
        "id": "QjfvYjWMLAv9",
        "outputId": "a9d55788-fae3-4d68-e563-800c62a6c54d"
      },
      "outputs": [
        {
          "data": {
            "text/plain": [
              "(torch.Size([3]), torch.Size([1, 3]))"
            ]
          },
          "execution_count": null,
          "metadata": {},
          "output_type": "execute_result"
        }
      ],
      "source": [
        "c.shape, c.unsqueeze(0).shape"
      ]
    },
    {
      "cell_type": "code",
      "execution_count": null,
      "metadata": {
        "id": "jw4-yWSxLAv9",
        "outputId": "9e0b8fcc-e4ad-42ec-c4fa-cbad1f8461dc"
      },
      "outputs": [
        {
          "data": {
            "text/plain": [
              "(tensor([[10.],\n",
              "         [20.],\n",
              "         [30.]]),\n",
              " tensor([[10.],\n",
              "         [20.],\n",
              "         [30.]]))"
            ]
          },
          "execution_count": null,
          "metadata": {},
          "output_type": "execute_result"
        }
      ],
      "source": [
        "c.unsqueeze(1), c[:, None]"
      ]
    },
    {
      "cell_type": "code",
      "execution_count": null,
      "metadata": {
        "id": "LIaUbPDjLAv9",
        "outputId": "b445bc2a-c796-4bd9-a53a-ad3473eca1d3"
      },
      "outputs": [
        {
          "data": {
            "text/plain": [
              "(torch.Size([3]), torch.Size([3, 1]))"
            ]
          },
          "execution_count": null,
          "metadata": {},
          "output_type": "execute_result"
        }
      ],
      "source": [
        "c.shape, c.unsqueeze(1).shape"
      ]
    },
    {
      "cell_type": "markdown",
      "metadata": {
        "id": "EAHXWNfmLAv9"
      },
      "source": [
        "You can always skip trailling ':'s. And '...' means '*all preceding dimensions*'"
      ]
    },
    {
      "cell_type": "code",
      "execution_count": null,
      "metadata": {
        "id": "TOLlHbgMLAv9",
        "outputId": "69e54524-4c7f-47ea-8790-a4d037596fe8"
      },
      "outputs": [
        {
          "data": {
            "text/plain": [
              "(torch.Size([1, 3]), torch.Size([3, 1]))"
            ]
          },
          "execution_count": null,
          "metadata": {},
          "output_type": "execute_result"
        }
      ],
      "source": [
        "c[None].shape,c[...,None].shape"
      ]
    },
    {
      "cell_type": "code",
      "execution_count": null,
      "metadata": {
        "id": "0pj_jsj4LAv9",
        "outputId": "ef61a79b-0a22-43c6-a0b0-c4176d0973d0"
      },
      "outputs": [
        {
          "data": {
            "text/plain": [
              "tensor([[10., 10., 10.],\n",
              "        [20., 20., 20.],\n",
              "        [30., 30., 30.]])"
            ]
          },
          "execution_count": null,
          "metadata": {},
          "output_type": "execute_result"
        }
      ],
      "source": [
        "c[:,None].expand_as(m)"
      ]
    },
    {
      "cell_type": "code",
      "execution_count": null,
      "metadata": {
        "id": "K3Y1GAuILAv9",
        "outputId": "35548961-8889-4937-a706-33185c2a2b01"
      },
      "outputs": [
        {
          "data": {
            "text/plain": [
              "tensor([[11., 12., 13.],\n",
              "        [24., 25., 26.],\n",
              "        [37., 38., 39.]])"
            ]
          },
          "execution_count": null,
          "metadata": {},
          "output_type": "execute_result"
        }
      ],
      "source": [
        "m + c[:,None]"
      ]
    },
    {
      "cell_type": "code",
      "execution_count": null,
      "metadata": {
        "id": "7t8hdVxHLAv9",
        "outputId": "d43e6ab2-321d-452c-c84b-5529f8152a83"
      },
      "outputs": [
        {
          "data": {
            "text/plain": [
              "tensor([[11., 22., 33.],\n",
              "        [14., 25., 36.],\n",
              "        [17., 28., 39.]])"
            ]
          },
          "execution_count": null,
          "metadata": {},
          "output_type": "execute_result"
        }
      ],
      "source": [
        "m + c[None,:]"
      ]
    },
    {
      "cell_type": "markdown",
      "metadata": {
        "id": "hZrJwfPkLAv9"
      },
      "source": [
        "### Broadcasting Rules"
      ]
    },
    {
      "cell_type": "code",
      "execution_count": null,
      "metadata": {
        "id": "IXf-osgILAv9",
        "outputId": "fce4fd0e-927d-4d2e-c88e-6328fd84b17f"
      },
      "outputs": [
        {
          "data": {
            "text/plain": [
              "tensor([[10., 20., 30.]])"
            ]
          },
          "execution_count": null,
          "metadata": {},
          "output_type": "execute_result"
        }
      ],
      "source": [
        "c[None,:]"
      ]
    },
    {
      "cell_type": "code",
      "execution_count": null,
      "metadata": {
        "id": "3gzVh9CwLAv9",
        "outputId": "feedfb3f-f723-44d5-8758-bbc98afa514a"
      },
      "outputs": [
        {
          "data": {
            "text/plain": [
              "torch.Size([1, 3])"
            ]
          },
          "execution_count": null,
          "metadata": {},
          "output_type": "execute_result"
        }
      ],
      "source": [
        "c[None,:].shape"
      ]
    },
    {
      "cell_type": "code",
      "execution_count": null,
      "metadata": {
        "id": "KjREllR0LAv9",
        "outputId": "8a885a09-c5ad-4a6d-b150-16c7daa4e322"
      },
      "outputs": [
        {
          "data": {
            "text/plain": [
              "tensor([[10.],\n",
              "        [20.],\n",
              "        [30.]])"
            ]
          },
          "execution_count": null,
          "metadata": {},
          "output_type": "execute_result"
        }
      ],
      "source": [
        "c[:,None]"
      ]
    },
    {
      "cell_type": "code",
      "execution_count": null,
      "metadata": {
        "id": "A-gWDmqhLAv9",
        "outputId": "c6def2c9-dea2-4a50-dd03-e18fe88cfce3"
      },
      "outputs": [
        {
          "data": {
            "text/plain": [
              "torch.Size([3, 1])"
            ]
          },
          "execution_count": null,
          "metadata": {},
          "output_type": "execute_result"
        }
      ],
      "source": [
        "c[:,None].shape"
      ]
    },
    {
      "cell_type": "code",
      "execution_count": null,
      "metadata": {
        "id": "FecWdhFSLAv9",
        "outputId": "66d3af8e-0676-4e33-b433-74735a3fe07b"
      },
      "outputs": [
        {
          "data": {
            "text/plain": [
              "tensor([[100., 200., 300.],\n",
              "        [200., 400., 600.],\n",
              "        [300., 600., 900.]])"
            ]
          },
          "execution_count": null,
          "metadata": {},
          "output_type": "execute_result"
        }
      ],
      "source": [
        "c[None,:] * c[:,None]"
      ]
    },
    {
      "cell_type": "code",
      "execution_count": null,
      "metadata": {
        "id": "H2wnXTWpLAv9",
        "outputId": "08ad681d-56dc-4231-dd96-da324f3d0a43"
      },
      "outputs": [
        {
          "data": {
            "text/plain": [
              "tensor([[False,  True,  True],\n",
              "        [False, False,  True],\n",
              "        [False, False, False]])"
            ]
          },
          "execution_count": null,
          "metadata": {},
          "output_type": "execute_result"
        }
      ],
      "source": [
        "c[None] > c[:,None]"
      ]
    },
    {
      "cell_type": "code",
      "execution_count": null,
      "metadata": {
        "id": "3AEfR89KLAv9",
        "outputId": "9a88165a-ac77-45bc-afb6-17a18623198e"
      },
      "outputs": [
        {
          "data": {
            "text/plain": [
              "tensor([[ 1.,  4.,  9.],\n",
              "        [16., 25., 36.],\n",
              "        [49., 64., 81.]])"
            ]
          },
          "execution_count": null,
          "metadata": {},
          "output_type": "execute_result"
        }
      ],
      "source": [
        "m*m"
      ]
    },
    {
      "cell_type": "markdown",
      "metadata": {
        "id": "u9qOWwo6LAv9"
      },
      "source": [
        "When operating on two arrays/tensors, Numpy/PyTorch compares their shapes element-wise. It starts with the **trailing dimensions**, and works its way forward. Two dimensions are **compatible** when\n",
        "\n",
        "- they are equal, or\n",
        "- one of them is 1, in which case that dimension is broadcasted to make it the same size\n",
        "\n",
        "Arrays do not need to have the same number of dimensions. For example, if you have a `256*256*3` array of RGB values, and you want to scale each color in the image by a different value, you can multiply the image by a one-dimensional array with 3 values. Lining up the sizes of the trailing axes of these arrays according to the broadcast rules, shows that they are compatible:\n",
        "\n",
        "    Image  (3d array): 256 x 256 x 3\n",
        "    Scale  (1d array):             3\n",
        "    Result (3d array): 256 x 256 x 3\n",
        "\n",
        "The [numpy documentation](https://docs.scipy.org/doc/numpy-1.13.0/user/basics.broadcasting.html#general-broadcasting-rules) includes several examples of what dimensions can and can not be broadcast together."
      ]
    },
    {
      "cell_type": "markdown",
      "metadata": {
        "id": "2qsh9MW9LAv9"
      },
      "source": [
        "## Matmul with broadcasting"
      ]
    },
    {
      "cell_type": "code",
      "execution_count": null,
      "metadata": {
        "id": "d1yZHSpbLAv9",
        "outputId": "6ca5dc81-77b0-4405-b596-7e76aa83a372"
      },
      "outputs": [
        {
          "data": {
            "text/plain": [
              "(torch.Size([784]), torch.Size([784, 10]))"
            ]
          },
          "execution_count": null,
          "metadata": {},
          "output_type": "execute_result"
        }
      ],
      "source": [
        "digit = m1[0]\n",
        "digit.shape,m2.shape"
      ]
    },
    {
      "cell_type": "code",
      "execution_count": null,
      "metadata": {
        "id": "C-pC9fqFLAv9",
        "outputId": "05e3aa54-35fa-446f-80c3-9101f5496106"
      },
      "outputs": [
        {
          "data": {
            "text/plain": [
              "torch.Size([784, 1])"
            ]
          },
          "execution_count": null,
          "metadata": {},
          "output_type": "execute_result"
        }
      ],
      "source": [
        "digit[:,None].shape"
      ]
    },
    {
      "cell_type": "code",
      "execution_count": null,
      "metadata": {
        "id": "js1MsiKOLAv-",
        "outputId": "1550320f-8464-4465-d2c7-9fa8ee0a7c5b"
      },
      "outputs": [
        {
          "data": {
            "text/plain": [
              "torch.Size([784, 10])"
            ]
          },
          "execution_count": null,
          "metadata": {},
          "output_type": "execute_result"
        }
      ],
      "source": [
        "digit[:,None].expand_as(m2).shape"
      ]
    },
    {
      "cell_type": "code",
      "execution_count": null,
      "metadata": {
        "id": "H-CccznHLAv-",
        "outputId": "a910b9ff-3560-42f8-c80e-3b7fc242ced8"
      },
      "outputs": [
        {
          "data": {
            "text/plain": [
              "torch.Size([784, 10])"
            ]
          },
          "execution_count": null,
          "metadata": {},
          "output_type": "execute_result"
        }
      ],
      "source": [
        "(digit[:,None]*m2).shape"
      ]
    },
    {
      "cell_type": "code",
      "execution_count": null,
      "metadata": {
        "id": "kPIRtzVHLAv-"
      },
      "outputs": [],
      "source": [
        "def matmul(a,b):\n",
        "    (ar,ac),(br,bc) = a.shape,b.shape\n",
        "    c = torch.zeros(ar, bc)\n",
        "    for i in range(ar):\n",
        "#       c[i,j] = (a[i,:] * b[:,j]).sum()      # previous version\n",
        "        c[i]   = (a[i,:,None] * b).sum(dim=0) # broadcast version\n",
        "    return c"
      ]
    },
    {
      "cell_type": "code",
      "execution_count": null,
      "metadata": {
        "id": "I8PxAWMYLAv-"
      },
      "outputs": [],
      "source": [
        "test_close(t1,matmul(m1, m2))"
      ]
    },
    {
      "cell_type": "code",
      "execution_count": null,
      "metadata": {
        "id": "JkdaFnb4LAv-",
        "outputId": "78d8dc08-ec0f-4a2e-f0ec-f49121d6f018"
      },
      "outputs": [
        {
          "name": "stdout",
          "output_type": "stream",
          "text": [
            "70.1 µs ± 1.97 µs per loop (mean ± std. dev. of 7 runs, 50 loops each)\n"
          ]
        }
      ],
      "source": [
        "%timeit -n 50 _=matmul(m1, m2)"
      ]
    },
    {
      "cell_type": "markdown",
      "metadata": {
        "id": "BjmUl0ncLAv-"
      },
      "source": [
        "Our time has gone from ~500ms to <0.1ms, an over 5000x improvement! We can run on the whole dataset now."
      ]
    },
    {
      "cell_type": "code",
      "execution_count": null,
      "metadata": {
        "id": "xKkliYoYLAv-",
        "outputId": "5d96cc5c-86ab-4635-82b2-3f18027d41fd"
      },
      "outputs": [
        {
          "data": {
            "text/plain": [
              "tensor([[  0.96,  -2.96,  -2.11,  ..., -15.09, -17.69,   0.60],\n",
              "        [  6.89,  -0.34,   0.79,  ..., -17.13, -25.36,  16.23],\n",
              "        [-10.18,   7.38,   4.13,  ...,  -6.73,  -6.79,  -1.58],\n",
              "        ...,\n",
              "        [  7.40,   7.64,  -3.50,  ...,  -1.02, -16.22,   2.07],\n",
              "        [  3.25,   9.52,  -9.37,  ...,   2.98, -19.58,  -1.96],\n",
              "        [ 15.70,   4.12,  -5.62,  ...,   8.08, -12.21,   0.42]])"
            ]
          },
          "execution_count": null,
          "metadata": {},
          "output_type": "execute_result"
        }
      ],
      "source": [
        "tr = matmul(x_train, weights)\n",
        "tr"
      ]
    },
    {
      "cell_type": "code",
      "execution_count": null,
      "metadata": {
        "id": "IiuVnosyLAv-",
        "outputId": "d0ec6b02-ace4-49ca-8372-3c693bd3da13"
      },
      "outputs": [
        {
          "data": {
            "text/plain": [
              "torch.Size([50000, 10])"
            ]
          },
          "execution_count": null,
          "metadata": {},
          "output_type": "execute_result"
        }
      ],
      "source": [
        "tr.shape"
      ]
    },
    {
      "cell_type": "code",
      "execution_count": null,
      "metadata": {
        "id": "bwyj_2z1LAv-",
        "outputId": "4ea81acc-5d06-481a-91be-9ca028c655e1"
      },
      "outputs": [
        {
          "name": "stdout",
          "output_type": "stream",
          "text": [
            "CPU times: user 6.59 s, sys: 200 ms, total: 6.79 s\n",
            "Wall time: 663 ms\n"
          ]
        }
      ],
      "source": [
        "%time _=matmul(x_train, weights)"
      ]
    },
    {
      "cell_type": "markdown",
      "metadata": {
        "id": "z-u7VHWALAv-"
      },
      "source": [
        "## Einstein summation"
      ]
    },
    {
      "cell_type": "markdown",
      "metadata": {
        "id": "sOzxE8FcLAv-"
      },
      "source": [
        "[Einstein summation](https://ajcr.net/Basic-guide-to-einsum/) ([`einsum`](https://numpy.org/doc/stable/reference/generated/numpy.einsum.html)) is a compact representation for combining products and sums in a general way. The key rules are:\n",
        "\n",
        "- Repeating letters between input arrays means that values along those axes will be multiplied together.\n",
        "- Omitting a letter from the output means that values along that axis will be summed."
      ]
    },
    {
      "cell_type": "code",
      "execution_count": null,
      "metadata": {
        "id": "n4CesgucLAv-",
        "outputId": "170874a2-f954-4c26-93b3-24da3778a5e3"
      },
      "outputs": [
        {
          "data": {
            "text/plain": [
              "(torch.Size([5, 784]), torch.Size([784, 10]))"
            ]
          },
          "execution_count": null,
          "metadata": {},
          "output_type": "execute_result"
        }
      ],
      "source": [
        "m1.shape,m2.shape"
      ]
    },
    {
      "cell_type": "code",
      "execution_count": null,
      "metadata": {
        "id": "__y40N1aLAv-",
        "outputId": "670f9b60-2824-4d4b-830d-01e033264cab"
      },
      "outputs": [
        {
          "data": {
            "text/plain": [
              "torch.Size([5, 784, 10])"
            ]
          },
          "execution_count": null,
          "metadata": {},
          "output_type": "execute_result"
        }
      ],
      "source": [
        "# c[i,j] += a[i,k] * b[k,j]\n",
        "# c[i,j] = (a[i,:] * b[:,j]).sum()\n",
        "mr = torch.einsum('ik,kj->ikj', m1, m2)\n",
        "mr.shape"
      ]
    },
    {
      "cell_type": "code",
      "execution_count": null,
      "metadata": {
        "id": "DCnn494ALAv-",
        "outputId": "6df41492-30fa-4ea4-9937-27fafac31663"
      },
      "outputs": [
        {
          "data": {
            "text/plain": [
              "tensor([[-10.94,  -0.68,  -7.00,  -4.01,  -2.09,  -3.36,   3.91,  -3.44, -11.47,  -2.12],\n",
              "        [ 14.54,   6.00,   2.89,  -4.08,   6.59, -14.74,  -9.28,   2.16, -15.28,  -2.68],\n",
              "        [  2.22,  -3.22,  -4.80,  -6.05,  14.17,  -8.98,  -4.79,  -5.44, -20.68,  13.57],\n",
              "        [ -6.71,   8.90,  -7.46,  -7.90,   2.70,  -4.73, -11.03, -12.98,  -6.44,   3.64],\n",
              "        [ -2.44,  -6.40,  -2.40,  -9.04,  11.18,  -5.77,  -8.92,  -3.79,  -8.98,   5.28]])"
            ]
          },
          "execution_count": null,
          "metadata": {},
          "output_type": "execute_result"
        }
      ],
      "source": [
        "mr.sum(1)"
      ]
    },
    {
      "cell_type": "code",
      "execution_count": null,
      "metadata": {
        "id": "ZfFP2IftLAv-",
        "outputId": "73d549c6-7ad0-4a7e-94e1-fbec0bc13f78"
      },
      "outputs": [
        {
          "data": {
            "text/plain": [
              "tensor([[-10.94,  -0.68,  -7.00,  -4.01,  -2.09,  -3.36,   3.91,  -3.44, -11.47,  -2.12],\n",
              "        [ 14.54,   6.00,   2.89,  -4.08,   6.59, -14.74,  -9.28,   2.16, -15.28,  -2.68],\n",
              "        [  2.22,  -3.22,  -4.80,  -6.05,  14.17,  -8.98,  -4.79,  -5.44, -20.68,  13.57],\n",
              "        [ -6.71,   8.90,  -7.46,  -7.90,   2.70,  -4.73, -11.03, -12.98,  -6.44,   3.64],\n",
              "        [ -2.44,  -6.40,  -2.40,  -9.04,  11.18,  -5.77,  -8.92,  -3.79,  -8.98,   5.28]])"
            ]
          },
          "execution_count": null,
          "metadata": {},
          "output_type": "execute_result"
        }
      ],
      "source": [
        "torch.einsum('ik,kj->ij', m1, m2)"
      ]
    },
    {
      "cell_type": "code",
      "execution_count": null,
      "metadata": {
        "id": "KJSbbdBPLAv-"
      },
      "outputs": [],
      "source": [
        "def matmul(a,b): return torch.einsum('ik,kj->ij', a, b)"
      ]
    },
    {
      "cell_type": "code",
      "execution_count": null,
      "metadata": {
        "id": "OW1w7wrVLAv-"
      },
      "outputs": [],
      "source": [
        "test_close(tr, matmul(x_train, weights), eps=1e-3)"
      ]
    },
    {
      "cell_type": "code",
      "execution_count": null,
      "metadata": {
        "id": "bm8g1_wJLAv-",
        "outputId": "d8d8986d-691a-4e78-fb3c-3888d47a8e89"
      },
      "outputs": [
        {
          "name": "stdout",
          "output_type": "stream",
          "text": [
            "15.1 ms ± 176 µs per loop (mean ± std. dev. of 7 runs, 5 loops each)\n"
          ]
        }
      ],
      "source": [
        "%timeit -n 5 _=matmul(x_train, weights)"
      ]
    },
    {
      "cell_type": "markdown",
      "metadata": {
        "id": "fIfRXvy-LAv-"
      },
      "source": [
        "## pytorch op"
      ]
    },
    {
      "cell_type": "markdown",
      "metadata": {
        "id": "25cvYCUSLAv-"
      },
      "source": [
        "We can use pytorch's function or operator directly for matrix multiplication."
      ]
    },
    {
      "cell_type": "code",
      "execution_count": null,
      "metadata": {
        "id": "qlwv0SpCLAv_"
      },
      "outputs": [],
      "source": [
        "test_close(tr, x_train@weights, eps=1e-3)"
      ]
    },
    {
      "cell_type": "code",
      "execution_count": null,
      "metadata": {
        "id": "5vVpcA_hLAv_",
        "outputId": "a6a37c8f-c154-44be-a77e-5499bcdd877f"
      },
      "outputs": [
        {
          "name": "stdout",
          "output_type": "stream",
          "text": [
            "15.2 ms ± 96.2 µs per loop (mean ± std. dev. of 7 runs, 5 loops each)\n"
          ]
        }
      ],
      "source": [
        "%timeit -n 5 _=torch.matmul(x_train, weights)"
      ]
    },
    {
      "cell_type": "markdown",
      "metadata": {
        "id": "M0dmxFGkLAv_"
      },
      "source": [
        "## CUDA"
      ]
    },
    {
      "cell_type": "code",
      "execution_count": null,
      "metadata": {
        "id": "S13rmWP6LAv_"
      },
      "outputs": [],
      "source": [
        "def matmul(grid, a,b,c):\n",
        "    i,j = grid\n",
        "    if i < c.shape[0] and j < c.shape[1]:\n",
        "        tmp = 0.\n",
        "        for k in range(a.shape[1]): tmp += a[i, k] * b[k, j]\n",
        "        c[i,j] = tmp"
      ]
    },
    {
      "cell_type": "code",
      "execution_count": null,
      "metadata": {
        "id": "C_EuK0VnLAv_",
        "outputId": "585f5887-c149-4a54-86e3-9cfda634a33c"
      },
      "outputs": [
        {
          "data": {
            "text/plain": [
              "tensor([[-10.94,   0.00,   0.00,   0.00,   0.00,   0.00,   0.00,   0.00,   0.00,   0.00],\n",
              "        [  0.00,   0.00,   0.00,   0.00,   0.00,   0.00,   0.00,   0.00,   0.00,   0.00],\n",
              "        [  0.00,   0.00,   0.00,   0.00,   0.00,   0.00,   0.00,   0.00,   0.00,   0.00],\n",
              "        [  0.00,   0.00,   0.00,   0.00,   0.00,   0.00,   0.00,   0.00,   0.00,   0.00],\n",
              "        [  0.00,   0.00,   0.00,   0.00,   0.00,   0.00,   0.00,   0.00,   0.00,   0.00]])"
            ]
          },
          "execution_count": null,
          "metadata": {},
          "output_type": "execute_result"
        }
      ],
      "source": [
        "res = torch.zeros(ar, bc)\n",
        "matmul((0,0), m1, m2, res)\n",
        "res"
      ]
    },
    {
      "cell_type": "code",
      "execution_count": null,
      "metadata": {
        "id": "spjjtuRFLAv_"
      },
      "outputs": [],
      "source": [
        "def launch_kernel(kernel, grid_x, grid_y, *args, **kwargs):\n",
        "    for i in range(grid_x):\n",
        "        for j in range(grid_y): kernel((i,j), *args, **kwargs)"
      ]
    },
    {
      "cell_type": "code",
      "execution_count": null,
      "metadata": {
        "id": "D346d3xNLAv_",
        "outputId": "e4ca7b24-9685-4e16-9778-5c49a8960630"
      },
      "outputs": [
        {
          "data": {
            "text/plain": [
              "tensor([[-10.94,  -0.68,  -7.00,  -4.01,  -2.09,  -3.36,   3.91,  -3.44, -11.47,  -2.12],\n",
              "        [ 14.54,   6.00,   2.89,  -4.08,   6.59, -14.74,  -9.28,   2.16, -15.28,  -2.68],\n",
              "        [  2.22,  -3.22,  -4.80,  -6.05,  14.17,  -8.98,  -4.79,  -5.44, -20.68,  13.57],\n",
              "        [ -6.71,   8.90,  -7.46,  -7.90,   2.70,  -4.73, -11.03, -12.98,  -6.44,   3.64],\n",
              "        [ -2.44,  -6.40,  -2.40,  -9.04,  11.18,  -5.77,  -8.92,  -3.79,  -8.98,   5.28]])"
            ]
          },
          "execution_count": null,
          "metadata": {},
          "output_type": "execute_result"
        }
      ],
      "source": [
        "res = torch.zeros(ar, bc)\n",
        "launch_kernel(matmul, ar, bc, m1, m2, res)\n",
        "res"
      ]
    },
    {
      "cell_type": "code",
      "execution_count": null,
      "metadata": {
        "id": "tYrym4HoLAv_"
      },
      "outputs": [],
      "source": [
        "from numba import cuda"
      ]
    },
    {
      "cell_type": "code",
      "execution_count": null,
      "metadata": {
        "id": "IdwqP_-PLAv_"
      },
      "outputs": [],
      "source": [
        "def matmul(grid, a,b,c):\n",
        "    i,j = grid\n",
        "    if i < c.shape[0] and j < c.shape[1]:\n",
        "        tmp = 0.\n",
        "        for k in range(a.shape[1]): tmp += a[i, k] * b[k, j]\n",
        "        c[i,j] = tmp"
      ]
    },
    {
      "cell_type": "code",
      "execution_count": null,
      "metadata": {
        "id": "G18z_iUDLAv_"
      },
      "outputs": [],
      "source": [
        "@cuda.jit\n",
        "def matmul(a,b,c):\n",
        "    i, j = cuda.grid(2)\n",
        "    if i < c.shape[0] and j < c.shape[1]:\n",
        "        tmp = 0.\n",
        "        for k in range(a.shape[1]): tmp += a[i, k] * b[k, j]\n",
        "        c[i,j] = tmp"
      ]
    },
    {
      "cell_type": "code",
      "execution_count": null,
      "metadata": {
        "id": "ME6RlbkcLAv_"
      },
      "outputs": [],
      "source": [
        "r = np.zeros(tr.shape)\n",
        "m1g,m2g,rg = map(cuda.to_device, (x_train,weights,r))"
      ]
    },
    {
      "cell_type": "code",
      "execution_count": null,
      "metadata": {
        "id": "1uVM8jLQLAv_",
        "outputId": "90e0fcc4-24da-458c-c725-d709aa5cf81b"
      },
      "outputs": [
        {
          "data": {
            "text/plain": [
              "(50000, 10)"
            ]
          },
          "execution_count": null,
          "metadata": {},
          "output_type": "execute_result"
        }
      ],
      "source": [
        "r.shape"
      ]
    },
    {
      "cell_type": "code",
      "execution_count": null,
      "metadata": {
        "id": "YLFRghPsLAv_",
        "outputId": "9ed57c6c-82bc-4692-f96e-4bcf9f169e6b"
      },
      "outputs": [
        {
          "data": {
            "text/plain": [
              "(3125, 1)"
            ]
          },
          "execution_count": null,
          "metadata": {},
          "output_type": "execute_result"
        }
      ],
      "source": [
        "TPB = 16\n",
        "rr,rc = r.shape\n",
        "blockspergrid = (math.ceil(rr / TPB), math.ceil(rc / TPB))\n",
        "blockspergrid"
      ]
    },
    {
      "cell_type": "code",
      "execution_count": null,
      "metadata": {
        "id": "ZaTItSPsLAv_"
      },
      "outputs": [],
      "source": [
        "matmul[blockspergrid, (TPB,TPB)](m1g,m2g,rg)\n",
        "r = rg.copy_to_host()\n",
        "test_close(tr, r, eps=1e-3)"
      ]
    },
    {
      "cell_type": "code",
      "execution_count": null,
      "metadata": {
        "id": "dP5HVvc6LAv_",
        "outputId": "7bafbd3d-8809-4de1-cfef-9cdb08d61eff"
      },
      "outputs": [
        {
          "name": "stdout",
          "output_type": "stream",
          "text": [
            "3.61 ms ± 708 µs per loop (mean ± std. dev. of 7 runs, 10 loops each)\n"
          ]
        }
      ],
      "source": [
        "%%timeit -n 10\n",
        "matmul[blockspergrid, (TPB,TPB)](m1g,m2g,rg)\n",
        "r = rg.copy_to_host()"
      ]
    },
    {
      "cell_type": "code",
      "execution_count": null,
      "metadata": {
        "id": "DRbUY0l1LAv_"
      },
      "outputs": [],
      "source": [
        "m1c,m2c = x_train.cuda(),weights.cuda()"
      ]
    },
    {
      "cell_type": "code",
      "execution_count": null,
      "metadata": {
        "id": "_JYjcwiwLAv_"
      },
      "outputs": [],
      "source": [
        "r=(m1c@m2c).cpu()"
      ]
    },
    {
      "cell_type": "code",
      "execution_count": null,
      "metadata": {
        "id": "4eQFfZRNLAv_",
        "outputId": "74a2bad4-b44a-440c-af1c-7e453a0ef685"
      },
      "outputs": [
        {
          "name": "stdout",
          "output_type": "stream",
          "text": [
            "458 µs ± 93.1 µs per loop (mean ± std. dev. of 7 runs, 10 loops each)\n"
          ]
        }
      ],
      "source": [
        "%timeit -n 10 r=(m1c@m2c).cpu()"
      ]
    },
    {
      "cell_type": "markdown",
      "metadata": {
        "id": "nKZK165SLAv_"
      },
      "source": [
        "Our broadcasting version was >500ms, and our CUDA version is around 0.5ms, which is another 1000x improvement compared to broadcasting. So our total speedup is around 5 million times!"
      ]
    },
    {
      "cell_type": "code",
      "execution_count": null,
      "metadata": {
        "id": "hMDArWT-LAv_"
      },
      "outputs": [],
      "source": []
    }
  ],
  "metadata": {
    "kernelspec": {
      "display_name": "Python 3 (ipykernel)",
      "language": "python",
      "name": "python3"
    },
    "colab": {
      "provenance": []
    }
  },
  "nbformat": 4,
  "nbformat_minor": 0
}